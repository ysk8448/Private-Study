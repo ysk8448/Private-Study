{
 "cells": [
  {
   "cell_type": "code",
   "execution_count": 4,
   "id": "7b896e46",
   "metadata": {},
   "outputs": [],
   "source": [
    "import operator\n",
    "from sklearn.metrics.pairwise import cosine_similarity\n",
    "\n",
    "import numpy as np\n",
    "import pandas as pd\n",
    "import seaborn as sns"
   ]
  },
  {
   "cell_type": "code",
   "execution_count": 5,
   "id": "83dc75d8",
   "metadata": {},
   "outputs": [],
   "source": [
    "ani = pd.read_csv('C:/Users/kehah/Desktop/anime rec/anime rec/anime.csv')\n",
    "ratings = pd.read_csv('C:/Users/kehah/Desktop/anime rec/anime rec/rating.csv')"
   ]
  },
  {
   "cell_type": "code",
   "execution_count": 6,
   "id": "58bc77a1",
   "metadata": {},
   "outputs": [
    {
     "data": {
      "text/plain": [
       "(12017, 7)"
      ]
     },
     "execution_count": 6,
     "metadata": {},
     "output_type": "execute_result"
    }
   ],
   "source": [
    "#결측 행 제거\n",
    "ani.dropna(axis=0, inplace=True)\n",
    "ani.shape"
   ]
  },
  {
   "cell_type": "code",
   "execution_count": 7,
   "id": "23d860df",
   "metadata": {
    "scrolled": true
   },
   "outputs": [
    {
     "data": {
      "text/plain": [
       " 8     1646019\n",
       "-1     1476496\n",
       " 7     1375287\n",
       " 9     1254096\n",
       " 10     955715\n",
       " 6      637775\n",
       " 5      282806\n",
       " 4      104291\n",
       " 3       41453\n",
       " 2       23150\n",
       " 1       16649\n",
       "Name: rating, dtype: int64"
      ]
     },
     "execution_count": 7,
     "metadata": {},
     "output_type": "execute_result"
    }
   ],
   "source": [
    "ratings['rating'].value_counts()"
   ]
  },
  {
   "cell_type": "code",
   "execution_count": 8,
   "id": "572aad59",
   "metadata": {
    "scrolled": true
   },
   "outputs": [
    {
     "data": {
      "text/html": [
       "<div>\n",
       "<style scoped>\n",
       "    .dataframe tbody tr th:only-of-type {\n",
       "        vertical-align: middle;\n",
       "    }\n",
       "\n",
       "    .dataframe tbody tr th {\n",
       "        vertical-align: top;\n",
       "    }\n",
       "\n",
       "    .dataframe thead th {\n",
       "        text-align: right;\n",
       "    }\n",
       "</style>\n",
       "<table border=\"1\" class=\"dataframe\">\n",
       "  <thead>\n",
       "    <tr style=\"text-align: right;\">\n",
       "      <th></th>\n",
       "      <th>user_id</th>\n",
       "      <th>anime_id</th>\n",
       "      <th>rating</th>\n",
       "    </tr>\n",
       "  </thead>\n",
       "  <tbody>\n",
       "    <tr>\n",
       "      <th>0</th>\n",
       "      <td>1</td>\n",
       "      <td>20</td>\n",
       "      <td>0</td>\n",
       "    </tr>\n",
       "    <tr>\n",
       "      <th>1</th>\n",
       "      <td>1</td>\n",
       "      <td>24</td>\n",
       "      <td>0</td>\n",
       "    </tr>\n",
       "    <tr>\n",
       "      <th>2</th>\n",
       "      <td>1</td>\n",
       "      <td>79</td>\n",
       "      <td>0</td>\n",
       "    </tr>\n",
       "    <tr>\n",
       "      <th>3</th>\n",
       "      <td>1</td>\n",
       "      <td>226</td>\n",
       "      <td>0</td>\n",
       "    </tr>\n",
       "    <tr>\n",
       "      <th>4</th>\n",
       "      <td>1</td>\n",
       "      <td>241</td>\n",
       "      <td>0</td>\n",
       "    </tr>\n",
       "    <tr>\n",
       "      <th>5</th>\n",
       "      <td>1</td>\n",
       "      <td>355</td>\n",
       "      <td>0</td>\n",
       "    </tr>\n",
       "    <tr>\n",
       "      <th>6</th>\n",
       "      <td>1</td>\n",
       "      <td>356</td>\n",
       "      <td>0</td>\n",
       "    </tr>\n",
       "    <tr>\n",
       "      <th>7</th>\n",
       "      <td>1</td>\n",
       "      <td>442</td>\n",
       "      <td>0</td>\n",
       "    </tr>\n",
       "    <tr>\n",
       "      <th>8</th>\n",
       "      <td>1</td>\n",
       "      <td>487</td>\n",
       "      <td>0</td>\n",
       "    </tr>\n",
       "    <tr>\n",
       "      <th>9</th>\n",
       "      <td>1</td>\n",
       "      <td>846</td>\n",
       "      <td>0</td>\n",
       "    </tr>\n",
       "  </tbody>\n",
       "</table>\n",
       "</div>"
      ],
      "text/plain": [
       "   user_id  anime_id  rating\n",
       "0        1        20       0\n",
       "1        1        24       0\n",
       "2        1        79       0\n",
       "3        1       226       0\n",
       "4        1       241       0\n",
       "5        1       355       0\n",
       "6        1       356       0\n",
       "7        1       442       0\n",
       "8        1       487       0\n",
       "9        1       846       0"
      ]
     },
     "execution_count": 8,
     "metadata": {},
     "output_type": "execute_result"
    }
   ],
   "source": [
    "ratings.replace(-1,0, inplace=True)\n",
    "idx = ratings[ratings['rating'] == -1].index\n",
    "ratings.drop(idx, inplace=True)\n",
    "\n",
    "\n",
    "ratings.head(10)"
   ]
  },
  {
   "cell_type": "code",
   "execution_count": 9,
   "id": "6ad93295",
   "metadata": {
    "scrolled": true
   },
   "outputs": [
    {
     "name": "stdout",
     "output_type": "stream",
     "text": [
      "평점 갯수 100 개 이상 콘텐츠 : (4591, 1)\n"
     ]
    },
    {
     "data": {
      "text/html": [
       "<div>\n",
       "<style scoped>\n",
       "    .dataframe tbody tr th:only-of-type {\n",
       "        vertical-align: middle;\n",
       "    }\n",
       "\n",
       "    .dataframe tbody tr th {\n",
       "        vertical-align: top;\n",
       "    }\n",
       "\n",
       "    .dataframe thead th {\n",
       "        text-align: right;\n",
       "    }\n",
       "</style>\n",
       "<table border=\"1\" class=\"dataframe\">\n",
       "  <thead>\n",
       "    <tr style=\"text-align: right;\">\n",
       "      <th></th>\n",
       "      <th>rating</th>\n",
       "    </tr>\n",
       "    <tr>\n",
       "      <th>anime_id</th>\n",
       "      <th></th>\n",
       "    </tr>\n",
       "  </thead>\n",
       "  <tbody>\n",
       "    <tr>\n",
       "      <th>1</th>\n",
       "      <td>15509</td>\n",
       "    </tr>\n",
       "    <tr>\n",
       "      <th>5</th>\n",
       "      <td>6927</td>\n",
       "    </tr>\n",
       "    <tr>\n",
       "      <th>6</th>\n",
       "      <td>11077</td>\n",
       "    </tr>\n",
       "    <tr>\n",
       "      <th>7</th>\n",
       "      <td>2629</td>\n",
       "    </tr>\n",
       "    <tr>\n",
       "      <th>8</th>\n",
       "      <td>413</td>\n",
       "    </tr>\n",
       "    <tr>\n",
       "      <th>...</th>\n",
       "      <td>...</td>\n",
       "    </tr>\n",
       "    <tr>\n",
       "      <th>33558</th>\n",
       "      <td>866</td>\n",
       "    </tr>\n",
       "    <tr>\n",
       "      <th>33569</th>\n",
       "      <td>176</td>\n",
       "    </tr>\n",
       "    <tr>\n",
       "      <th>33964</th>\n",
       "      <td>248</td>\n",
       "    </tr>\n",
       "    <tr>\n",
       "      <th>34103</th>\n",
       "      <td>822</td>\n",
       "    </tr>\n",
       "    <tr>\n",
       "      <th>34240</th>\n",
       "      <td>1546</td>\n",
       "    </tr>\n",
       "  </tbody>\n",
       "</table>\n",
       "<p>4591 rows × 1 columns</p>\n",
       "</div>"
      ],
      "text/plain": [
       "          rating\n",
       "anime_id        \n",
       "1          15509\n",
       "5           6927\n",
       "6          11077\n",
       "7           2629\n",
       "8            413\n",
       "...          ...\n",
       "33558        866\n",
       "33569        176\n",
       "33964        248\n",
       "34103        822\n",
       "34240       1546\n",
       "\n",
       "[4591 rows x 1 columns]"
      ]
     },
     "execution_count": 9,
     "metadata": {},
     "output_type": "execute_result"
    }
   ],
   "source": [
    "ratings_per_anime = ratings.groupby('anime_id')['rating'].count()\n",
    "\n",
    "# 너무 적게 평가된 콘텐츠 제거\n",
    "ratings_per_anime_df = pd.DataFrame(ratings_per_anime)\n",
    "\n",
    "# 평점 개수가 100개 이하 콘텐츠 제거\n",
    "filtered_ratings_per_anime_df = ratings_per_anime_df[ratings_per_anime_df.rating >= 100]\n",
    "print('평점 갯수 100 개 이상 콘텐츠 :',filtered_ratings_per_anime_df.shape)\n",
    "popular_anime = filtered_ratings_per_anime_df.index.tolist()\n",
    "\n",
    "filtered_ratings_per_anime_df\n",
    "#평점이 100개이상 평가된 애니 컨텐츠만 추출하고 header 제거한 파일 생성 \n",
    "#filtered_ratings_per_anime_df.to_csv('C:/Users/kehah/Desktop/anime rec/anime rec/rating_noh.csv', index=False, header=False)"
   ]
  },
  {
   "cell_type": "code",
   "execution_count": 10,
   "id": "ba381a58",
   "metadata": {},
   "outputs": [
    {
     "name": "stdout",
     "output_type": "stream",
     "text": [
      "평점 200개 이상 남긴 유저: (11278, 1)\n"
     ]
    }
   ],
   "source": [
    "rating_per_user = ratings.groupby('user_id')['rating'].count()\n",
    "\n",
    "# 너무 적게 평가한 유저 제거\n",
    "rating_per_user_df = pd.DataFrame(rating_per_user)\n",
    "\n",
    "# 평점 데이터 200개 이하인 유저의 경우 제거\n",
    "filtered_rating_per_user_df = rating_per_user_df[rating_per_user_df.rating >= 200]\n",
    "prolific_users = filtered_rating_per_user_df.index.tolist()\n",
    "\n",
    "print('평점 200개 이상 남긴 유저:',filtered_rating_per_user_df.shape)"
   ]
  },
  {
   "cell_type": "code",
   "execution_count": 11,
   "id": "3580557e",
   "metadata": {},
   "outputs": [],
   "source": [
    "filtered_ratings = ratings[ratings.anime_id.isin(popular_anime)]\n",
    "filtered_ratings = ratings[ratings.user_id.isin(prolific_users)]\n",
    "\n",
    "filtered_ratings\n",
    "filtered_ratings.to_csv('C:/Users/kehah/Desktop/anime rec/anime rec/filtered_rating_noh.csv', index=False, header=False)"
   ]
  },
  {
   "cell_type": "code",
   "execution_count": 12,
   "id": "8d07f1e3",
   "metadata": {},
   "outputs": [],
   "source": [
    "#필요한 모듈 불러오기\n",
    "from surprise import SVD\n",
    "from surprise import SVDpp\n",
    "from surprise import NMF\n",
    "from surprise import Dataset\n",
    "from surprise import accuracy\n",
    "from surprise.model_selection import train_test_split"
   ]
  },
  {
   "cell_type": "code",
   "execution_count": 13,
   "id": "5f7c57a6",
   "metadata": {},
   "outputs": [],
   "source": [
    "import pandas as pd\n",
    "\n",
    "ratings_1 = pd.read_csv('C:/Users/kehah/Desktop/anime rec/anime rec/filtered_rating_noh.csv')\n",
    "\n",
    "#ratings_noh.csv : ratings에서 인덱스, 헤더 제거한 파일 생성\n"
   ]
  },
  {
   "cell_type": "code",
   "execution_count": 14,
   "id": "9107e947",
   "metadata": {
    "scrolled": true
   },
   "outputs": [
    {
     "data": {
      "text/html": [
       "<div>\n",
       "<style scoped>\n",
       "    .dataframe tbody tr th:only-of-type {\n",
       "        vertical-align: middle;\n",
       "    }\n",
       "\n",
       "    .dataframe tbody tr th {\n",
       "        vertical-align: top;\n",
       "    }\n",
       "\n",
       "    .dataframe thead th {\n",
       "        text-align: right;\n",
       "    }\n",
       "</style>\n",
       "<table border=\"1\" class=\"dataframe\">\n",
       "  <thead>\n",
       "    <tr style=\"text-align: right;\">\n",
       "      <th></th>\n",
       "      <th>5</th>\n",
       "      <th>6</th>\n",
       "      <th>8</th>\n",
       "    </tr>\n",
       "  </thead>\n",
       "  <tbody>\n",
       "    <tr>\n",
       "      <th>0</th>\n",
       "      <td>5</td>\n",
       "      <td>15</td>\n",
       "      <td>6</td>\n",
       "    </tr>\n",
       "    <tr>\n",
       "      <th>1</th>\n",
       "      <td>5</td>\n",
       "      <td>17</td>\n",
       "      <td>6</td>\n",
       "    </tr>\n",
       "    <tr>\n",
       "      <th>2</th>\n",
       "      <td>5</td>\n",
       "      <td>18</td>\n",
       "      <td>6</td>\n",
       "    </tr>\n",
       "  </tbody>\n",
       "</table>\n",
       "</div>"
      ],
      "text/plain": [
       "   5   6  8\n",
       "0  5  15  6\n",
       "1  5  17  6\n",
       "2  5  18  6"
      ]
     },
     "execution_count": 14,
     "metadata": {},
     "output_type": "execute_result"
    }
   ],
   "source": [
    "ratings_1.head(3)"
   ]
  },
  {
   "cell_type": "code",
   "execution_count": 39,
   "id": "4ffcade1",
   "metadata": {
    "scrolled": true
   },
   "outputs": [
    {
     "data": {
      "text/plain": [
       "5    0\n",
       "6    0\n",
       "8    0\n",
       "dtype: int64"
      ]
     },
     "execution_count": 39,
     "metadata": {},
     "output_type": "execute_result"
    }
   ],
   "source": [
    "ratings.isna().sum()"
   ]
  },
  {
   "cell_type": "code",
   "execution_count": 41,
   "id": "32131cac",
   "metadata": {
    "scrolled": true
   },
   "outputs": [
    {
     "data": {
      "text/plain": [
       "8     1646019\n",
       "0     1476496\n",
       "7     1375287\n",
       "9     1254096\n",
       "10     955715\n",
       "6      637775\n",
       "5      282806\n",
       "4      104291\n",
       "3       41453\n",
       "2       23150\n",
       "1       16649\n",
       "Name: rating, dtype: int64"
      ]
     },
     "execution_count": 41,
     "metadata": {},
     "output_type": "execute_result"
    }
   ],
   "source": [
    "ratings['rating'].value_counts()"
   ]
  },
  {
   "cell_type": "code",
   "execution_count": 17,
   "id": "9cde0e37",
   "metadata": {},
   "outputs": [],
   "source": [
    "from surprise import Reader\n",
    "\n",
    "reader = Reader(line_format='user item rating', sep=',', rating_scale=(1,10))\n",
    "\n",
    "#Dataset.load_from_file API를 이용해 판다스의 데이터프레임에서 파라미터는 데이터프레임\n",
    "#그리고 사용자아이디, 아이템아이디, 평점순으로 칼럼이 정해져 있어야함.\n",
    "data=Dataset.load_from_file('C:/Users/kehah/Desktop/anime rec/anime rec/filtered_rating_noh.csv', reader=reader)\n",
    "    #ratings_noh.csv : ratings에서 인덱스, 헤더 제거한 파일 생성\n"
   ]
  },
  {
   "cell_type": "code",
   "execution_count": 18,
   "id": "d8b2e71c",
   "metadata": {},
   "outputs": [
    {
     "name": "stdout",
     "output_type": "stream",
     "text": [
      "RMSE: 1.8069\n"
     ]
    },
    {
     "data": {
      "text/plain": [
       "1.8068915330382198"
      ]
     },
     "execution_count": 18,
     "metadata": {},
     "output_type": "execute_result"
    }
   ],
   "source": [
    "# train:test 8:2(80:20)로 분리\n",
    "trainset, testset = train_test_split(data, test_size=.20, random_state=0)\n",
    "\n",
    "algo = SVD(n_factors=50, random_state=0)\n",
    "\n",
    "algo.fit(trainset)\n",
    "predictions = algo.test(testset)\n",
    "accuracy.rmse(predictions)"
   ]
  },
  {
   "cell_type": "markdown",
   "id": "6a4c0c37",
   "metadata": {},
   "source": [
    "### 교차검증, 하이퍼 파라미터 튜닝"
   ]
  },
  {
   "cell_type": "code",
   "execution_count": 88,
   "id": "8a5420ad",
   "metadata": {},
   "outputs": [],
   "source": [
    "#from surprise.model_selection import cross_validate\n",
    "\n",
    "ratings = pd.read_csv('C:/Users/kehah/Desktop/anime rec/anime rec/rating.csv')\n",
    "\n",
    "reader = Reader(rating_scale = (1, 10.0))\n",
    "data = Dataset.load_from_df(ratings[['user_id', 'anime_id','rating']], reader)\n",
    "\n",
    "#algo=SVD(random_state=0)\n",
    "#cross_validate(algo, data, measures =['RMSE','MAE'], cv=5, verbose=True)"
   ]
  },
  {
   "cell_type": "code",
   "execution_count": 20,
   "id": "987c6068",
   "metadata": {},
   "outputs": [
    {
     "name": "stdout",
     "output_type": "stream",
     "text": [
      "1.7896482330992745\n",
      "{'n_epochs': 10, 'n_factors': 50}\n"
     ]
    }
   ],
   "source": [
    "from surprise.model_selection import GridSearchCV\n",
    "\n",
    "#n_epochs 기본값 20, n_factors 기본값 100\n",
    "param_grid = {'n_epochs':[10, 20, 30], 'n_factors':[50,100,150]}\n",
    "\n",
    "#cv=3 성능평가 rmse, mae\n",
    "gs = GridSearchCV(SVD, param_grid, measures=['rmse','mae'],cv=3)\n",
    "gs.fit(data)\n",
    "\n",
    "print(gs.best_score['rmse'])\n",
    "print(gs.best_params['rmse'])"
   ]
  },
  {
   "cell_type": "code",
   "execution_count": 26,
   "id": "8c402edd",
   "metadata": {},
   "outputs": [
    {
     "name": "stdout",
     "output_type": "stream",
     "text": [
      "1.782577287443725\n",
      "{'n_epochs': 10, 'n_factors': 30}\n"
     ]
    }
   ],
   "source": [
    "from surprise.model_selection import GridSearchCV\n",
    "\n",
    "#n_epochs 기본값 20, n_factors 기본값 100\n",
    "param_grid = {'n_epochs':[1,5,10], 'n_factors':[10,30,50]}\n",
    "\n",
    "#cv=3 성능평가 rmse, mae\n",
    "gs = GridSearchCV(SVD, param_grid, measures=['rmse','mae'],cv=3)\n",
    "gs.fit(data)\n",
    "\n",
    "print(gs.best_score['rmse'])\n",
    "print(gs.best_params['rmse'])"
   ]
  },
  {
   "cell_type": "code",
   "execution_count": 28,
   "id": "645c857e",
   "metadata": {},
   "outputs": [
    {
     "name": "stdout",
     "output_type": "stream",
     "text": [
      "1.7822548529323257\n",
      "{'n_epochs': 7, 'n_factors': 35}\n"
     ]
    }
   ],
   "source": [
    "from surprise.model_selection import GridSearchCV\n",
    "\n",
    "#n_epochs 기본값 20, n_factors 기본값 100\n",
    "param_grid = {'n_epochs':[7,10,13], 'n_factors':[25,30,35]}\n",
    "\n",
    "#cv=3 성능평가 rmse, mae\n",
    "gs = GridSearchCV(SVD, param_grid, measures=['rmse','mae'],cv=3)\n",
    "gs.fit(data)\n",
    "\n",
    "print(gs.best_score['rmse'])\n",
    "print(gs.best_params['rmse'])"
   ]
  },
  {
   "cell_type": "code",
   "execution_count": 25,
   "id": "4e16c493",
   "metadata": {},
   "outputs": [],
   "source": [
    "from surprise.dataset import DatasetAutoFolds\n",
    "\n",
    "reader = Reader(line_format='user item rating', sep= ',',rating_scale=(1,10))\n",
    "\n",
    "data_folds = DatasetAutoFolds(ratings_file='C:/Users/kehah/Desktop/anime rec/anime rec/filtered_rating_noh.csv', reader=reader)\n",
    "\n",
    "#전체 데이터 셋을 학습 데이터로 생성\n",
    "trainset=data_folds.build_full_trainset()"
   ]
  },
  {
   "cell_type": "code",
   "execution_count": 30,
   "id": "39a9e459",
   "metadata": {},
   "outputs": [
    {
     "data": {
      "text/plain": [
       "<surprise.prediction_algorithms.matrix_factorization.SVD at 0x22aa6891d60>"
      ]
     },
     "execution_count": 30,
     "metadata": {},
     "output_type": "execute_result"
    }
   ],
   "source": [
    "algo = SVD(n_epochs=7, n_factors=35, random_state=0)\n",
    "algo.fit(trainset)"
   ]
  },
  {
   "cell_type": "code",
   "execution_count": 117,
   "id": "b74b1398",
   "metadata": {},
   "outputs": [
    {
     "name": "stdout",
     "output_type": "stream",
     "text": [
      "해당 user 는 animeid  평점 없음\n",
      "   anime_id            name                                 genre   type  \\\n",
      "0     32281  Kimi no Na wa.  Drama, Romance, School, Supernatural  Movie   \n",
      "\n",
      "  episodes  rating  members  \n",
      "0        1    9.37   200630  \n"
     ]
    }
   ],
   "source": [
    "#애니 데이터 불러오기\n",
    "anime = pd.read_csv('C:/Users/kehah/Desktop/anime rec/anime rec/anime.csv')\n",
    "\n",
    "animeIds = ratings[ratings['user_id']==226]['anime_id']\n",
    "\n",
    "if animeIds[animeIds==32281].count() == 0:\n",
    "    print('해당 user 는 animeid  평점 없음')\n",
    "if animeIds[animeIds==32281].count() != 0:\n",
    "    print('해당 유저는 해당 애니 본 적 있음')\n",
    "\n",
    "print(anime[anime['anime_id']==32281])"
   ]
  },
  {
   "cell_type": "code",
   "execution_count": 91,
   "id": "d3510d2d",
   "metadata": {},
   "outputs": [
    {
     "data": {
      "text/plain": [
       "pandas.core.series.Series"
      ]
     },
     "execution_count": 91,
     "metadata": {},
     "output_type": "execute_result"
    }
   ],
   "source": [
    "type(animeIds)"
   ]
  },
  {
   "cell_type": "code",
   "execution_count": 118,
   "id": "c27e1fd6",
   "metadata": {},
   "outputs": [
    {
     "name": "stdout",
     "output_type": "stream",
     "text": [
      "   anime_id            name                                 genre   type  \\\n",
      "0     32281  Kimi no Na wa.  Drama, Romance, School, Supernatural  Movie   \n",
      "\n",
      "  episodes  rating  members  \n",
      "0        1    9.37   200630  \n"
     ]
    }
   ],
   "source": [
    "print(anime[anime['anime_id']==32281])"
   ]
  },
  {
   "cell_type": "code",
   "execution_count": 119,
   "id": "634b2bd7",
   "metadata": {},
   "outputs": [
    {
     "name": "stdout",
     "output_type": "stream",
     "text": [
      "user: 226        item: 32281      r_ui = None   est = 9.18   {'was_impossible': False}\n"
     ]
    }
   ],
   "source": [
    "uid=str(226)\n",
    "iid = str(32281)\n",
    "\n",
    "pred = algo.predict(uid, iid, verbose=True)"
   ]
  },
  {
   "cell_type": "code",
   "execution_count": 120,
   "id": "dd93ed56",
   "metadata": {
    "scrolled": true
   },
   "outputs": [
    {
     "name": "stdout",
     "output_type": "stream",
     "text": [
      "the number of already seen animes: 742 the number of unseen animes: 11552 total number of animes: 12294\n"
     ]
    }
   ],
   "source": [
    "def unseen_ani_sur(ratings, anime, user_id):\n",
    "    #사용자가 평점매긴 모든 영화를 리스트로 변환\n",
    "    seen_ani_list = ratings[ratings['user_id']==user_id]['anime_id'].tolist()\n",
    "    \n",
    "    #모든영화의 movieId를 리스트로 생성\n",
    "    total_ani_list = anime['anime_id'].tolist()\n",
    "    \n",
    "    #전체 영화 리스트에서 사용자가 본 영화가 아닌(안 본) 영화만(movieId)을 리스트로 생성 \n",
    "    unseen_ani_list = [anime for anime in total_ani_list if anime not in seen_ani_list]\n",
    "    \n",
    "    print('the number of already seen animes:',len(seen_ani_list),   \n",
    "          'the number of unseen animes:',len(unseen_ani_list),   \n",
    "          'total number of animes:',len(total_ani_list))   \n",
    "    return unseen_ani_list\n",
    "um = unseen_ani_sur(ratings, anime, 226)"
   ]
  },
  {
   "cell_type": "code",
   "execution_count": 121,
   "id": "64fcab3a",
   "metadata": {
    "scrolled": true
   },
   "outputs": [
    {
     "name": "stdout",
     "output_type": "stream",
     "text": [
      "the number of already seen animes: 742 the number of unseen animes: 11552 total number of animes: 12294\n",
      "######\n",
      "Kimi no Na wa. : 9.176885003574514\n",
      "Gintama° : 9.046640073380466\n",
      "Shokugeki no Souma : 9.004363317664131\n",
      "Diamond no Ace: Second Season : 8.945141836900731\n",
      "Junjou Romantica 3 : 8.86972432189395\n",
      "High☆Speed!: Free! Starting Days : 8.859035570699477\n",
      "Hybrid Child : 8.814704451915933\n",
      "Noblesse: Awakening : 8.770685111865546\n",
      "Code Geass: Boukoku no Akito 3 - Kagayaku Mono Ten yori Otsu : 8.768341610618366\n",
      "Gangsta. : 8.757700669958963\n"
     ]
    }
   ],
   "source": [
    "def recomm_ani_sur(algo, user_id, unseen_ani_list, top_n=10):\n",
    "    \n",
    "    predictions = [algo.predict(str(user_id), str(anime_id)) for anime_id in unseen_ani_list]\n",
    "    \n",
    "    def sortkey_est(pred):\n",
    "        return pred.est\n",
    "    predictions.sort(key = sortkey_est, reverse=True)\n",
    "    \n",
    "    top_predictions = predictions[:top_n]\n",
    "    \n",
    "    top_ani_ids = [int(pred.iid) for pred in top_predictions]\n",
    "    \n",
    "    top_ani_rating = [pred.est for pred in top_predictions]\n",
    "    \n",
    "    top_ani_names = anime[anime.anime_id.isin(top_ani_ids)]['name']\n",
    "    \n",
    "    top_ani_preds = [ (id, name, rating) for id, name, rating in zip(top_ani_ids, top_ani_names, top_ani_rating)]\n",
    "    \n",
    "    return top_ani_preds\n",
    "\n",
    "um = unseen_ani_sur(ratings, anime, 226)\n",
    "top_anime_preds = recomm_ani_sur(algo, 226, um, top_n=10)\n",
    "\n",
    "print('######')\n",
    "for top_anime in top_anime_preds:\n",
    "    print(top_anime[1], \":\", top_anime[2])"
   ]
  },
  {
   "cell_type": "code",
   "execution_count": null,
   "id": "011bb39b",
   "metadata": {},
   "outputs": [],
   "source": []
  }
 ],
 "metadata": {
  "kernelspec": {
   "display_name": "Python 3 (ipykernel)",
   "language": "python",
   "name": "python3"
  },
  "language_info": {
   "codemirror_mode": {
    "name": "ipython",
    "version": 3
   },
   "file_extension": ".py",
   "mimetype": "text/x-python",
   "name": "python",
   "nbconvert_exporter": "python",
   "pygments_lexer": "ipython3",
   "version": "3.9.7"
  }
 },
 "nbformat": 4,
 "nbformat_minor": 5
}
